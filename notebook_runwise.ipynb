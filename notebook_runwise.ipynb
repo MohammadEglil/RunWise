{
 "cells": [
  {
   "cell_type": "markdown",
   "id": "71bafaf1-0474-437d-87a4-817ef7928973",
   "metadata": {},
   "source": [
    "# Optimal running route\n",
    "\n",
    "This notebook aims to help runners find the best route by using a fuzzy multi-criteria decision analysis (MCDA) approach. Unlike standard methods, fuzzy MCDA can handle uncertainty, making it ideal for decisions where factors like terrain, safety, and weather conditions are not always precise. Here, we’ll gather data on different routes and rank them based on specific factors like scenic value, safety, elevation, and surface type. By adjusting weights based on personal preferences, this notebook will provide a customized route recommendation, helping runners pick the best path for their needs."
   ]
  },
  {
   "cell_type": "markdown",
   "id": "908a4958-0168-441f-9aee-5a4e960d5dfb",
   "metadata": {},
   "source": [
    "# Fuzzy Multi Criteria Decision Analysis"
   ]
  },
  {
   "cell_type": "code",
   "execution_count": 1,
   "id": "a320bd28-101d-4032-8593-0decce2df1e6",
   "metadata": {},
   "outputs": [
    {
     "name": "stdin",
     "output_type": "stream",
     "text": [
      "Enter the number of routes to evaluate:  2\n",
      "Enter the name for Route 1:  wald\n",
      "Enter the name for Route 2:  stadt\n"
     ]
    },
    {
     "name": "stdout",
     "output_type": "stream",
     "text": [
      "Available criteria:\n",
      "1. Scenic Value\n",
      "2. Safety\n",
      "3. Traffic Conditions\n",
      "4. Terrain Difficulty\n",
      "5. Distance\n",
      "6. Weather Conditions\n",
      "7. Route Maintenance\n",
      "8. Accessibility\n",
      "9. Environmental Impact\n",
      "10. Cost\n",
      "11. Cultural Value\n",
      "12. Noise Level\n",
      "13. Shade Availability\n",
      "14. Resting Spots\n",
      "15. Crowdedness\n",
      "16. Wildlife\n",
      "17. Road Condition\n",
      "18. Signage\n",
      "19. Emergency Access\n",
      "20. Scenic Diversity\n"
     ]
    },
    {
     "name": "stdin",
     "output_type": "stream",
     "text": [
      "Select criteria to consider by entering the numbers separated by commas (e.g., 1,3,5):  1,2\n"
     ]
    },
    {
     "name": "stdout",
     "output_type": "stream",
     "text": [
      "\n",
      "Enter the values for wald:\n"
     ]
    },
    {
     "name": "stdin",
     "output_type": "stream",
     "text": [
      "Select Scenic Value (Low, Medium, High):  high\n",
      "Select Safety (Poor, Average, Excellent):  average\n"
     ]
    },
    {
     "name": "stdout",
     "output_type": "stream",
     "text": [
      "\n",
      "Enter the values for stadt:\n"
     ]
    },
    {
     "name": "stdin",
     "output_type": "stream",
     "text": [
      "Select Scenic Value (Low, Medium, High):  high\n",
      "Select Safety (Poor, Average, Excellent):  excellent\n"
     ]
    },
    {
     "name": "stdout",
     "output_type": "stream",
     "text": [
      "\n",
      "Fuzzy Decision Matrix:\n",
      "                         wald        stadt\n",
      "Scenic Value      (0.5, 1, 1)  (0.5, 1, 1)\n",
      "Safety        (0.3, 0.5, 0.7)  (0.6, 1, 1)\n"
     ]
    }
   ],
   "source": [
    "import numpy as np\n",
    "import pandas as pd\n",
    "\n",
    "# Define triangular fuzzy numbers for each linguistic term\n",
    "fuzzy_numbers = {\n",
    "    \"Scenic Value\": {\n",
    "        \"Low\": (0, 0, 0.5),\n",
    "        \"Medium\": (0.25, 0.5, 0.75),\n",
    "        \"High\": (0.5, 1, 1)\n",
    "    },\n",
    "    \"Safety\": {\n",
    "        \"Poor\": (0, 0, 0.4),\n",
    "        \"Average\": (0.3, 0.5, 0.7),\n",
    "        \"Excellent\": (0.6, 1, 1)\n",
    "    },\n",
    "    \"Traffic Conditions\": {\n",
    "        \"Heavy\": (0, 0, 0.4),\n",
    "        \"Moderate\": (0.3, 0.5, 0.7),\n",
    "        \"Light\": (0.6, 1, 1)\n",
    "    },\n",
    "    \"Terrain Difficulty\": {\n",
    "        \"Easy\": (0.6, 1, 1),\n",
    "        \"Moderate\": (0.3, 0.5, 0.7),\n",
    "        \"Hard\": (0, 0, 0.4)\n",
    "    },\n",
    "    \"Distance\": {\n",
    "        \"Short\": (0, 0, 0.5),\n",
    "        \"Medium\": (0.25, 0.5, 0.75),\n",
    "        \"Long\": (0.5, 1, 1)\n",
    "    },\n",
    "    \"Weather Conditions\": {\n",
    "        \"Bad\": (0, 0, 0.4),\n",
    "        \"Fair\": (0.3, 0.5, 0.7),\n",
    "        \"Good\": (0.6, 1, 1)\n",
    "    },\n",
    "    \"Route Maintenance\": {\n",
    "        \"Poor\": (0, 0, 0.4),\n",
    "        \"Average\": (0.3, 0.5, 0.7),\n",
    "        \"Excellent\": (0.6, 1, 1)\n",
    "    },\n",
    "    \"Accessibility\": {\n",
    "        \"Difficult\": (0, 0, 0.4),\n",
    "        \"Moderate\": (0.3, 0.5, 0.7),\n",
    "        \"Easy\": (0.6, 1, 1)\n",
    "    },\n",
    "    \"Environmental Impact\": {\n",
    "        \"High\": (0.5, 1, 1),\n",
    "        \"Moderate\": (0.25, 0.5, 0.75),\n",
    "        \"Low\": (0, 0, 0.5)\n",
    "    },\n",
    "    \"Cost\": {\n",
    "        \"Expensive\": (0.5, 1, 1),\n",
    "        \"Moderate\": (0.25, 0.5, 0.75),\n",
    "        \"Cheap\": (0, 0, 0.5)\n",
    "    },\n",
    "    \"Cultural Value\": {\n",
    "        \"Low\": (0, 0, 0.4),\n",
    "        \"Medium\": (0.3, 0.5, 0.7),\n",
    "        \"High\": (0.6, 1, 1)\n",
    "    },\n",
    "    \"Noise Level\": {\n",
    "        \"High\": (0.5, 1, 1),\n",
    "        \"Moderate\": (0.25, 0.5, 0.75),\n",
    "        \"Low\": (0, 0, 0.4)\n",
    "    },\n",
    "    \"Shade Availability\": {\n",
    "        \"Low\": (0, 0, 0.4),\n",
    "        \"Medium\": (0.3, 0.5, 0.7),\n",
    "        \"High\": (0.6, 1, 1)\n",
    "    },\n",
    "    \"Resting Spots\": {\n",
    "        \"Few\": (0, 0, 0.4),\n",
    "        \"Moderate\": (0.3, 0.5, 0.7),\n",
    "        \"Many\": (0.6, 1, 1)\n",
    "    },\n",
    "    \"Crowdedness\": {\n",
    "        \"High\": (0.5, 1, 1),\n",
    "        \"Medium\": (0.25, 0.5, 0.75),\n",
    "        \"Low\": (0, 0, 0.5)\n",
    "    },\n",
    "    \"Wildlife\": {\n",
    "        \"Scarce\": (0, 0, 0.4),\n",
    "        \"Moderate\": (0.3, 0.5, 0.7),\n",
    "        \"Abundant\": (0.6, 1, 1)\n",
    "    },\n",
    "    \"Road Condition\": {\n",
    "        \"Poor\": (0, 0, 0.4),\n",
    "        \"Fair\": (0.3, 0.5, 0.7),\n",
    "        \"Good\": (0.6, 1, 1)\n",
    "    },\n",
    "    \"Signage\": {\n",
    "        \"Poor\": (0, 0, 0.4),\n",
    "        \"Adequate\": (0.3, 0.5, 0.7),\n",
    "        \"Excellent\": (0.6, 1, 1)\n",
    "    },\n",
    "    \"Emergency Access\": {\n",
    "        \"Difficult\": (0, 0, 0.4),\n",
    "        \"Moderate\": (0.3, 0.5, 0.7),\n",
    "        \"Easy\": (0.6, 1, 1)\n",
    "    },\n",
    "    \"Scenic Diversity\": {\n",
    "        \"Low\": (0, 0, 0.4),\n",
    "        \"Medium\": (0.3, 0.5, 0.7),\n",
    "        \"High\": (0.6, 1, 1)\n",
    "    }\n",
    "}\n",
    "\n",
    "# Collect number of routes and names from the user\n",
    "num_routes = int(input(\"Enter the number of routes to evaluate: \"))\n",
    "routes = [input(f\"Enter the name for Route {i+1}: \").strip() for i in range(num_routes)]\n",
    "\n",
    "# List all criteria for user selection\n",
    "all_criteria = list(fuzzy_numbers.keys())\n",
    "\n",
    "# Allow the user to choose criteria to consider\n",
    "print(\"Available criteria:\")\n",
    "for i, criterion in enumerate(all_criteria, 1):\n",
    "    print(f\"{i}. {criterion}\")\n",
    "\n",
    "chosen_indices = input(\"Select criteria to consider by entering the numbers separated by commas (e.g., 1,3,5): \")\n",
    "chosen_indices = [int(x.strip()) - 1 for x in chosen_indices.split(\",\")]\n",
    "selected_criteria = [all_criteria[i] for i in chosen_indices]\n",
    "\n",
    "# Define the fuzzy decision matrix and gather user input for selected criteria\n",
    "fuzzy_decision_matrix = {}\n",
    "\n",
    "for route in routes:\n",
    "    fuzzy_decision_matrix[route] = {}\n",
    "    print(f\"\\nEnter the values for {route}:\")\n",
    "    for criterion in selected_criteria:\n",
    "        options = \", \".join(fuzzy_numbers[criterion].keys())\n",
    "        term = input(f\"Select {criterion} ({options}): \").strip().capitalize()\n",
    "        # Validate the input to match available options\n",
    "        while term not in fuzzy_numbers[criterion]:\n",
    "            print(f\"Invalid choice. Please choose one of the following: {options}\")\n",
    "            term = input(f\"Select {criterion} ({options}): \").strip().capitalize()\n",
    "        fuzzy_decision_matrix[route][criterion] = fuzzy_numbers[criterion][term]\n",
    "\n",
    "# Convert the fuzzy decision matrix to a DataFrame for easier visualization\n",
    "df = pd.DataFrame(fuzzy_decision_matrix)\n",
    "print(\"\\nFuzzy Decision Matrix:\")\n",
    "print(df)"
   ]
  },
  {
   "cell_type": "code",
   "execution_count": 2,
   "id": "316a5977-65e6-4822-b8b9-844c61fb9ad4",
   "metadata": {},
   "outputs": [
    {
     "name": "stdout",
     "output_type": "stream",
     "text": [
      "Please enter the weight for each selected criterion. The weights should sum up to 1.\n"
     ]
    },
    {
     "name": "stdin",
     "output_type": "stream",
     "text": [
      "Enter the weight for Scenic Value:  0.8\n",
      "Enter the weight for Safety:  0.2\n"
     ]
    },
    {
     "name": "stdout",
     "output_type": "stream",
     "text": [
      "\n",
      "Aggregated Fuzzy Scores:\n",
      "             wald  stadt\n",
      "Lower Limit  0.46   0.52\n",
      "Modal Value  0.90   1.00\n",
      "Upper Limit  0.94   1.00\n"
     ]
    }
   ],
   "source": [
    "# Initialize an empty dictionary for weights\n",
    "weights = {}\n",
    "\n",
    "# Collect weights from the user for only the selected criteria\n",
    "print(\"Please enter the weight for each selected criterion. The weights should sum up to 1.\")\n",
    "for criterion in selected_criteria:\n",
    "    while True:\n",
    "        try:\n",
    "            weight = float(input(f\"Enter the weight for {criterion}: \"))\n",
    "            if weight < 0 or weight > 1:\n",
    "                raise ValueError(\"Weight must be between 0 and 1.\")\n",
    "            weights[criterion] = weight\n",
    "            break\n",
    "        except ValueError as e:\n",
    "            print(f\"Invalid input: {e}. Please enter a valid number.\")\n",
    "\n",
    "# Check if weights sum to 1 within a tolerance to account for floating-point precision\n",
    "if abs(sum(weights.values()) - 1.0) > 0.001:\n",
    "    raise ValueError(\"The weights do not sum to 1. Please re-run the program and enter correct weights.\")\n",
    "\n",
    "# Calculate the weighted fuzzy scores\n",
    "fuzzy_scores = {}\n",
    "\n",
    "for route, criteria_values in fuzzy_decision_matrix.items():\n",
    "    fuzzy_scores[route] = []\n",
    "    for criterion, fuzzy_number in criteria_values.items():\n",
    "        # Get the weight for the criterion\n",
    "        weight = weights[criterion]\n",
    "        # Calculate the weighted fuzzy number\n",
    "        weighted_fuzzy_number = tuple(weight * x for x in fuzzy_number)\n",
    "        fuzzy_scores[route].append(weighted_fuzzy_number)\n",
    "\n",
    "# Aggregate the fuzzy scores for each route\n",
    "aggregated_scores = {}\n",
    "\n",
    "for route, scores in fuzzy_scores.items():\n",
    "    # Sum the weighted fuzzy numbers component-wise\n",
    "    aggregated_score = tuple(sum(x) for x in zip(*scores))\n",
    "    aggregated_scores[route] = aggregated_score\n",
    "\n",
    "# Convert the aggregated scores to a DataFrame for easier visualization\n",
    "df = pd.DataFrame(aggregated_scores, index=[\"Lower Limit\", \"Modal Value\", \"Upper Limit\"])\n",
    "print(\"\\nAggregated Fuzzy Scores:\")\n",
    "print(df)\n"
   ]
  },
  {
   "cell_type": "code",
   "execution_count": 3,
   "id": "3feb4c14-4741-4a34-988e-03b489b81c96",
   "metadata": {},
   "outputs": [
    {
     "name": "stdout",
     "output_type": "stream",
     "text": [
      "   Route  Crisp Value\n",
      "0  stadt     0.840000\n",
      "1   wald     0.766667\n"
     ]
    }
   ],
   "source": [
    "# Defuzzify the aggregated fuzzy scores\n",
    "defuzzified_scores = {}\n",
    "\n",
    "for route, (a, b, c) in aggregated_scores.items():\n",
    "    # Calculate the crisp value using the Centroid Method\n",
    "    crisp_value = (a + b + c) / 3\n",
    "    defuzzified_scores[route] = crisp_value\n",
    "\n",
    "# Rank the routes based on the defuzzified scores\n",
    "sorted_routes = sorted(defuzzified_scores.items(), key=lambda x: x[1], reverse=True)\n",
    "\n",
    "# Convert the defuzzified scores to a DataFrame for easier visualization\n",
    "df = pd.DataFrame(sorted_routes, columns=[\"Route\", \"Crisp Value\"])\n",
    "print(df)\n"
   ]
  },
  {
   "cell_type": "code",
   "execution_count": null,
   "id": "b6215b31-1099-4317-8029-28d7dd4ea6ef",
   "metadata": {},
   "outputs": [],
   "source": []
  }
 ],
 "metadata": {
  "kernelspec": {
   "display_name": "Python 3 (ipykernel)",
   "language": "python",
   "name": "python3"
  },
  "language_info": {
   "codemirror_mode": {
    "name": "ipython",
    "version": 3
   },
   "file_extension": ".py",
   "mimetype": "text/x-python",
   "name": "python",
   "nbconvert_exporter": "python",
   "pygments_lexer": "ipython3",
   "version": "3.9.6"
  }
 },
 "nbformat": 4,
 "nbformat_minor": 5
}
